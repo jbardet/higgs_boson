{
 "cells": [
  {
   "cell_type": "code",
   "execution_count": null,
   "metadata": {
    "tags": []
   },
   "outputs": [],
   "source": [
    "# Useful starting lines\n",
    "%matplotlib inline\n",
    "import numpy as np\n",
    "import matplotlib.pyplot as plt\n",
    "%load_ext autoreload\n",
    "%autoreload 2"
   ]
  },
  {
   "cell_type": "markdown",
   "metadata": {},
   "source": [
    "## Load the training data into feature matrix, class labels, and event ids:"
   ]
  },
  {
   "cell_type": "code",
   "execution_count": 30,
   "metadata": {
    "collapsed": false,
    "jupyter": {
     "outputs_hidden": false
    }
   },
   "outputs": [],
   "source": [
    "from proj1_helpers import *\n",
    "DATA_TRAIN_PATH = '../data/train.csv' # TODO: download train data and supply path here \n",
    "y, tx, ids = load_csv_data(DATA_TRAIN_PATH)"
   ]
  },
  {
   "cell_type": "markdown",
   "metadata": {},
   "source": [
    "## Clean the data"
   ]
  },
  {
   "cell_type": "code",
   "execution_count": 31,
   "metadata": {},
   "outputs": [],
   "source": [
    "#tx, _, _ = modify_missing_data(tx, -999, 0.9, tx)"
   ]
  },
  {
   "cell_type": "markdown",
   "metadata": {},
   "source": [
    "## Selection of model parameters"
   ]
  },
  {
   "cell_type": "code",
   "execution_count": 32,
   "metadata": {},
   "outputs": [],
   "source": [
    "from param_selection import gamma_grid_search, lambda_grid_search\n",
    "\n",
    "folder_path = '../figs/'\n",
    "k_fold = 4"
   ]
  },
  {
   "cell_type": "code",
   "execution_count": 33,
   "metadata": {},
   "outputs": [
    {
     "name": "stdout",
     "output_type": "stream",
     "text": [
      "1\n",
      "2\n",
      "3\n",
      "4\n"
     ]
    },
    {
     "name": "stderr",
     "output_type": "stream",
     "text": [
      "/Users/Nicolas/Desktop/MA3/ML/ML/project1/scripts/implementations.py:4: RuntimeWarning: overflow encountered in exp\n",
      "  return 1 / (1 + np.exp(-x))\n"
     ]
    }
   ],
   "source": [
    "gammas = np.logspace(-5, -1, 10)\n",
    "\n",
    "loss_logreg, loss_ls_GD, loss_ls_SGD = gamma_grid_search(y, tx, gammas, k_fold)"
   ]
  },
  {
   "cell_type": "code",
   "execution_count": null,
   "metadata": {},
   "outputs": [],
   "source": [
    "def plot_gamma_search(gammas, losses, folder_path):\n",
    "\n",
    "    fig, axes = plt.subplots(1, 3, figsize=(12, 5))\n",
    "\n",
    "    xlabels = ['logistic_regression', 'least_squares_GD', 'least_squares_SGD']\n",
    "\n",
    "    for ax_nb in range(3):\n",
    "        \n",
    "        loss = np.array(losses[ax_nb])\n",
    "        \n",
    "        axes[ax_nb].semilogx(gammas, loss[:, 0], marker=\".\", color='b', label='train loss')\n",
    "        axes[ax_nb].semilogx(gammas, loss[:, 1], marker=\"x\", color='r', label='test loss')\n",
    "        if ax_nb==0:\n",
    "            axes[ax_nb].set_ylabel(\"loss\") \n",
    "        if ax_nb==1 or ax_nb==2:\n",
    "            axes[ax_nb].set_ylim([0.125, 0.2])\n",
    "            \n",
    "        axes[ax_nb].set_xlabel(xlabels[ax_nb])\n",
    "        axes[ax_nb].grid(True)\n",
    "        axes[ax_nb].legend(loc=\"upper right\")\n",
    "\n",
    "    fig.suptitle('Gamma grid search')\n",
    "    plt.tight_layout()\n",
    "    plt.savefig((folder_path+'gammas'))\n",
    "    plt.show()"
   ]
  },
  {
   "cell_type": "code",
   "execution_count": null,
   "metadata": {},
   "outputs": [],
   "source": [
    "plot_gamma_search(gammas, [loss_logreg, loss_ls_GD, loss_ls_SGD], folder_path)"
   ]
  },
  {
   "cell_type": "code",
   "execution_count": null,
   "metadata": {},
   "outputs": [],
   "source": [
    "print(gammas)"
   ]
  },
  {
   "cell_type": "code",
   "execution_count": null,
   "metadata": {},
   "outputs": [],
   "source": [
    "lambdas = np.logspace(-5, 0, 15)\n",
    "loss_logreg_reg, loss_ridge = lambda_grid_search(y, tx, lambdas, k_fold)"
   ]
  },
  {
   "cell_type": "code",
   "execution_count": null,
   "metadata": {},
   "outputs": [],
   "source": [
    "def plot_lambda_search(lambdas, losses, folder_path):\n",
    "\n",
    "    fig, axes = plt.subplots(1, 2, figsize=(8, 5))\n",
    "\n",
    "    xlabels = ['reg_logistic_regression', 'ridge_regression']\n",
    "\n",
    "    for ax_nb in range(2):\n",
    "        \n",
    "        loss = np.array(losses[ax_nb])\n",
    "        axes[ax_nb].plot(lambdas, loss[:, 0], marker=\".\", color='b', label='train loss')\n",
    "        axes[ax_nb].semilogx(lambdas, loss[:, 1], marker=\".\", color='r', label='test loss')\n",
    "        if ax_nb==0:\n",
    "            axes[ax_nb].set_ylabel(\"loss\")\n",
    "        axes[ax_nb].set_xlabel(xlabels[ax_nb])\n",
    "        axes[ax_nb].grid(True)\n",
    "        axes[ax_nb].legend(loc=\"upper right\")\n",
    "\n",
    "    fig.suptitle('Lambda grid search')\n",
    "    plt.tight_layout()\n",
    "    plt.savefig((folder_path+'lambdas'))\n",
    "    plt.show()"
   ]
  },
  {
   "cell_type": "code",
   "execution_count": null,
   "metadata": {},
   "outputs": [],
   "source": [
    "plot_lambda_search(lambdas, [loss_logreg_reg, loss_ridge], folder_path)"
   ]
  },
  {
   "cell_type": "markdown",
   "metadata": {},
   "source": [
    "## Compare the performance of the models (accuracy)"
   ]
  },
  {
   "cell_type": "code",
   "execution_count": null,
   "metadata": {},
   "outputs": [],
   "source": [
    "from param_selection import compare_models"
   ]
  },
  {
   "cell_type": "code",
   "execution_count": null,
   "metadata": {},
   "outputs": [],
   "source": [
    "gamma_logreg = 1e-5\n",
    "gamma_logreg_reg = gamma_logreg\n",
    "gamma_ls_GD = 1e-1\n",
    "gamma_ls_SGD = 4.6e-3\n",
    "gammas = [gamma_logreg, gamma_logreg_reg, gamma_ls_GD, gamma_ls_SGD]\n",
    "\n",
    "lambda_logreg_reg = 1e-3\n",
    "lambda_ridge = 1e-4\n",
    "lambdas = [lambda_logreg_reg, lambda_ridge]"
   ]
  },
  {
   "cell_type": "code",
   "execution_count": null,
   "metadata": {},
   "outputs": [],
   "source": [
    "acc_logreg, acc_logreg_reg, acc_ls_GD, acc_ls_SGD, acc_ls, acc_ridge = compare_models(y, tx, gammas, lambdas, k_fold)"
   ]
  },
  {
   "cell_type": "code",
   "execution_count": null,
   "metadata": {},
   "outputs": [],
   "source": [
    "print(acc_logreg, acc_logreg_reg, acc_ls_GD, acc_ls_SGD, acc_ls, acc_ridge)"
   ]
  },
  {
   "cell_type": "code",
   "execution_count": null,
   "metadata": {},
   "outputs": [],
   "source": []
  }
 ],
 "metadata": {
  "anaconda-cloud": {},
  "interpreter": {
   "hash": "caa3476aa6ea5220ddd3d09e2a064fac135def181fdf9e5d96d66eb3ee151e28"
  },
  "kernelspec": {
   "display_name": "Python 3.8.5 64-bit ('ada': conda)",
   "name": "python3"
  },
  "language_info": {
   "codemirror_mode": {
    "name": "ipython",
    "version": 3
   },
   "file_extension": ".py",
   "mimetype": "text/x-python",
   "name": "python",
   "nbconvert_exporter": "python",
   "pygments_lexer": "ipython3",
   "version": "3.8.5"
  }
 },
 "nbformat": 4,
 "nbformat_minor": 4
}
