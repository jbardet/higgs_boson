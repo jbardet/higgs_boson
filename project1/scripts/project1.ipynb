{
 "cells": [
  {
   "cell_type": "code",
   "execution_count": 5,
   "metadata": {
    "tags": []
   },
   "outputs": [],
   "source": [
    "# Useful starting lines\n",
    "%matplotlib inline\n",
    "import numpy as np\n",
    "import matplotlib.pyplot as plt\n",
    "%load_ext autoreload\n",
    "%autoreload 2"
   ]
  },
  {
   "cell_type": "markdown",
   "metadata": {},
   "source": [
    "## Load the training data into feature matrix, class labels, and event ids:"
   ]
  },
  {
   "cell_type": "code",
   "execution_count": 6,
   "metadata": {
    "collapsed": false,
    "jupyter": {
     "outputs_hidden": false
    }
   },
   "outputs": [],
   "source": [
    "from proj1_helpers import *\n",
    "DATA_TRAIN_PATH = '../data/train.csv' # TODO: download train data and supply path here \n",
    "y, tx, ids = load_csv_data(DATA_TRAIN_PATH)"
   ]
  },
  {
   "cell_type": "code",
   "execution_count": 7,
   "metadata": {},
   "outputs": [],
   "source": [
    "from implementations import *\n",
    "#from data_analysis import *\n",
    "#from visualisation import *\n",
    "#from preprocessing import *"
   ]
  },
  {
   "cell_type": "markdown",
   "metadata": {},
   "source": [
    "## Do your thing crazy machine learning thing here :) ..."
   ]
  },
  {
   "cell_type": "code",
   "execution_count": null,
   "metadata": {},
   "outputs": [],
   "source": [
    "#Try with all data\n",
    "\n",
    "initial_w = np.zeros(tx.shape[1])\n",
    "max_iters = 100\n",
    "gamma = 1e-3\n",
    "\n",
    "## Test on some small data\n",
    "#weights, loss = logistic_regression(y[:200000], tx[:200000], initial_w, max_iters, gamma)\n",
    "#weights, loss = least_squares(y[:200000], tx[:200000]) \n",
    "#weights, loss = ridge_regression(y[:200000], tx[:200000], gamma)\n",
    "#weights, loss = least_squares_SGD(y[:200000], tx[:200000], initial_w, max_iters, gamma)\n",
    "#weights, loss = least_squares_GD(y[:200000], tx[:200000], initial_w, max_iters, gamma)\n",
    "\n",
    "print(loss)\n",
    "y_pred = predict_labels(weights, tx[30000:])\n",
    "print(np.dot(tx[30000:], weights))\n",
    "print(weights.shape)\n",
    "\n",
    "accuracy = np.sum(y_pred==y[30000:]) / y_pred.shape[0]\n",
    "\n",
    "print(accuracy)\n",
    "\n",
    "#create_csv_submission(ids_test, y_pred, OUTPUT_PATH)"
   ]
  },
  {
   "cell_type": "code",
   "execution_count": null,
   "metadata": {},
   "outputs": [],
   "source": [
    "#Try with normalized data\n",
    "\n",
    "initial_w = np.zeros(tX.shape[1])\n",
    "max_iters = 100\n",
    "gamma = 1e-3\n",
    "\n",
    "## Test on some small data\n",
    "#weights, loss = logistic_regression(y[:30000], tX[:30000], initial_w, max_iters, gamma)\n",
    "#(weights, loss) = least_squares(y[:30000], tX[:30000]) #works\n",
    "#(weights, loss) = ridge_regression(y[:30000], tX[:30000], gamma) #works\n",
    "(weights, loss) = least_squares_SGD(y[:30000], normalized_x[:30000], initial_w, max_iters, gamma)\n",
    "\n",
    "print(loss)\n",
    "y_pred = predict_labels(weights, normalized_x[30000:])\n",
    "print(np.dot(normalized_x[30000:], weights))\n",
    "print(weights.shape)\n",
    "\n",
    "accuracy = np.sum(y_pred==y[30000:]) / y_pred.shape[0]\n",
    "\n",
    "print(accuracy)\n",
    "\n",
    "#create_csv_submission(ids_test, y_pred, OUTPUT_PATH)"
   ]
  },
  {
   "cell_type": "code",
   "execution_count": null,
   "metadata": {},
   "outputs": [],
   "source": [
    "#Quick testing of functions\n",
    "w_initial = np.ones(30)\n",
    "max_iters=10\n",
    "gamma = 0.1\n",
    "lambda_ = 0.01\n",
    "w_lsgd = least_squares_GD(y, tX, w_initial, max_iters, gamma)\n",
    "w_lssgd = least_squares_SGD(y, tX, w_initial, max_iters, gamma)\n",
    "w_ls = least_squares(y, tX)\n",
    "w_rg = ridge_regression(y, tX, lambda_)"
   ]
  },
  {
   "cell_type": "code",
   "execution_count": null,
   "metadata": {},
   "outputs": [],
   "source": [
    "print(w_lsgd, w_lssgd, w_ls, w_rg)"
   ]
  },
  {
   "cell_type": "markdown",
   "metadata": {},
   "source": [
    "## Generate predictions and save ouput in csv format for submission:"
   ]
  },
  {
   "cell_type": "code",
   "execution_count": null,
   "metadata": {
    "collapsed": false,
    "jupyter": {
     "outputs_hidden": false
    }
   },
   "outputs": [],
   "source": [
    "DATA_TEST_PATH = '../data/test.csv' # TODO: download train data and supply path here \n",
    "_, tX_test, ids_test = load_csv_data(DATA_TEST_PATH)"
   ]
  },
  {
   "cell_type": "code",
   "execution_count": null,
   "metadata": {
    "collapsed": false,
    "jupyter": {
     "outputs_hidden": false
    }
   },
   "outputs": [],
   "source": [
    "OUTPUT_PATH = '../output' # TODO: fill in desired name of output file for submission\n",
    "y_pred = predict_labels(weights, tX_test)\n",
    "create_csv_submission(ids_test, y_pred, OUTPUT_PATH)"
   ]
  },
  {
   "cell_type": "markdown",
   "metadata": {},
   "source": [
    "## Selection of model parameters"
   ]
  },
  {
   "cell_type": "code",
   "execution_count": 17,
   "metadata": {},
   "outputs": [],
   "source": [
    "from param_selection import gamma_grid_search, lambda_grid_search\n",
    "\n",
    "folder_path = '../figs/'\n",
    "k_fold = 4"
   ]
  },
  {
   "cell_type": "code",
   "execution_count": 16,
   "metadata": {},
   "outputs": [
    {
     "name": "stdout",
     "output_type": "stream",
     "text": [
      "1\n",
      "2\n",
      "3\n",
      "4\n",
      "5\n",
      "6\n",
      "7\n",
      "8\n",
      "9\n",
      "10\n"
     ]
    }
   ],
   "source": [
    "gammas = np.logspace(-5, -1, 10)\n",
    "\n",
    "loss_logreg, loss_ls_GD, loss_ls_SGD = gamma_grid_search(y, tx, gammas, k_fold)"
   ]
  },
  {
   "cell_type": "code",
   "execution_count": 17,
   "metadata": {},
   "outputs": [],
   "source": [
    "def plot_gamma_search(gammas, losses, folder_path):\n",
    "\n",
    "    fig, axes = plt.subplots(1, 3, figsize=(12, 5))\n",
    "\n",
    "    xlabels = ['logistic_regression', 'least_squares_GD', 'least_squares_SGD']\n",
    "\n",
    "    for ax_nb in range(3):\n",
    "        \n",
    "        loss = np.array(losses[ax_nb])\n",
    "        axes[ax_nb].semilogx(gammas, loss[:, 0], marker=\".\", color='b', label='train loss')\n",
    "        axes[ax_nb].semilogx(gammas, loss[:, 1], marker=\".\", color='r', label='test loss')\n",
    "        if ax_nb==0:\n",
    "            axes[ax_nb].set_ylabel(\"loss\")\n",
    "        axes[ax_nb].set_xlabel(xlabels[ax_nb])\n",
    "        axes[ax_nb].grid(True)\n",
    "        axes[ax_nb].legend(loc=\"upper right\")\n",
    "\n",
    "    fig.suptitle('Gamma grid search')\n",
    "    plt.tight_layout()\n",
    "    plt.savefig((folder_path+'gammas'))\n",
    "    plt.show()"
   ]
  },
  {
   "cell_type": "code",
   "execution_count": 18,
   "metadata": {},
   "outputs": [
    {
     "data": {
      "image/png": "[encoded data removed]",
      "text/plain": [
       "<Figure size 864x360 with 3 Axes>"
      ]
     },
     "metadata": {
      "needs_background": "light"
     },
     "output_type": "display_data"
    }
   ],
   "source": [
    "plot_gamma_search(gammas, [loss_logreg, loss_ls_GD, loss_ls_SGD], folder_path)"
   ]
  },
  {
   "cell_type": "code",
   "execution_count": 32,
   "metadata": {},
   "outputs": [
    {
     "name": "stdout",
     "output_type": "stream",
     "text": [
      "1\n",
      "2\n",
      "3\n",
      "4\n",
      "5\n",
      "6\n",
      "7\n",
      "8\n",
      "9\n",
      "10\n"
     ]
    }
   ],
   "source": [
    "lambdas = np.linspace(-2, 1, 10)\n",
    "loss_logreg_reg, loss_ridge = lambda_grid_search(y, tx, lambdas, k_fold)"
   ]
  },
  {
   "cell_type": "code",
   "execution_count": 33,
   "metadata": {},
   "outputs": [],
   "source": [
    "def plot_lambda_search(lambdas, losses, folder_path):\n",
    "\n",
    "    fig, axes = plt.subplots(1, 2, figsize=(8, 5))\n",
    "\n",
    "    xlabels = ['reg_logistic_regression', 'ridge_regression']\n",
    "\n",
    "    for ax_nb in range(2):\n",
    "        \n",
    "        loss = np.array(losses[ax_nb])\n",
    "        axes[ax_nb].plot(lambdas, loss[:, 0], marker=\".\", color='b', label='train loss')\n",
    "        axes[ax_nb].plot(lambdas, loss[:, 1], marker=\".\", color='r', label='test loss')\n",
    "        if ax_nb==0:\n",
    "            axes[ax_nb].set_ylabel(\"loss\")\n",
    "        axes[ax_nb].set_xlabel(xlabels[ax_nb])\n",
    "        axes[ax_nb].grid(True)\n",
    "        axes[ax_nb].legend(loc=\"upper right\")\n",
    "\n",
    "    fig.suptitle('Lambda grid search')\n",
    "    plt.tight_layout()\n",
    "    plt.savefig((folder_path+'lambdas'))\n",
    "    plt.show()"
   ]
  },
  {
   "cell_type": "code",
   "execution_count": 34,
   "metadata": {},
   "outputs": [
    {
     "data": {
      "image/png": "[encoded data removed]",
      "text/plain": [
       "<Figure size 576x360 with 2 Axes>"
      ]
     },
     "metadata": {
      "needs_background": "light"
     },
     "output_type": "display_data"
    }
   ],
   "source": [
    "plot_lambda_search(lambdas, [loss_logreg_reg, loss_ridge], folder_path)"
   ]
  },
  {
   "cell_type": "markdown",
   "metadata": {},
   "source": [
    "## Compare the performance of the models (accuracy)"
   ]
  },
  {
   "cell_type": "code",
   "execution_count": 21,
   "metadata": {},
   "outputs": [],
   "source": [
    "from param_selection import compare_models"
   ]
  },
  {
   "cell_type": "code",
   "execution_count": 22,
   "metadata": {},
   "outputs": [],
   "source": [
    "gamma_logreg = 1e-5\n",
    "gamma_logreg_reg = gamma_logreg\n",
    "gamma_ls_GD = 1e-1\n",
    "gamma_ls_SGD = 1e-2\n",
    "gammas = [gamma_logreg, gamma_logreg_reg, gamma_ls_GD, gamma_ls_SGD]\n",
    "\n",
    "lambda_logreg_reg = 2\n",
    "lambda_ridge = 2\n",
    "lambdas = [lambda_logreg_reg, lambda_ridge]"
   ]
  },
  {
   "cell_type": "code",
   "execution_count": 30,
   "metadata": {},
   "outputs": [],
   "source": [
    "acc_logreg, acc_logreg_reg, acc_ls_GD, acc_ls_SGD, acc_ridge = compare_models(y, tx, gammas, lambdas, k_fold)"
   ]
  },
  {
   "cell_type": "code",
   "execution_count": 31,
   "metadata": {},
   "outputs": [
    {
     "name": "stdout",
     "output_type": "stream",
     "text": [
      "0.663376 0.6634599999999999 0.709252 0.0 0.616924\n"
     ]
    }
   ],
   "source": [
    "print(acc_logreg, acc_logreg_reg, acc_ls_GD, acc_ls_SGD, acc_ridge)"
   ]
  }
 ],
 "metadata": {
  "anaconda-cloud": {},
  "interpreter": {
   "hash": "caa3476aa6ea5220ddd3d09e2a064fac135def181fdf9e5d96d66eb3ee151e28"
  },
  "kernelspec": {
   "display_name": "Python 3.8.5 64-bit ('ada': conda)",
   "name": "python3"
  },
  "language_info": {
   "codemirror_mode": {
    "name": "ipython",
    "version": 3
   },
   "file_extension": ".py",
   "mimetype": "text/x-python",
   "name": "python",
   "nbconvert_exporter": "python",
   "pygments_lexer": "ipython3",
   "version": "3.8.5"
  }
 },
 "nbformat": 4,
 "nbformat_minor": 4
}
